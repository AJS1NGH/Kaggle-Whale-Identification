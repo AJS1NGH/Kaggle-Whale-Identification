{
 "cells": [
  {
   "cell_type": "code",
   "execution_count": 65,
   "metadata": {},
   "outputs": [],
   "source": [
    "import os\n",
    "import numpy as np\n",
    "import matplotlib.pyplot as plt\n",
    "import shutil"
   ]
  },
  {
   "cell_type": "code",
   "execution_count": 58,
   "metadata": {},
   "outputs": [],
   "source": [
    "dictall = { \"13-17\"   : [],\n",
    "            \"22-30\"   : [],\n",
    "            \"34-39\"   : [],\n",
    "            \"50-52\"   : [],\n",
    "            \"65-78\"   : [],\n",
    "            \"91-117\"  : [],\n",
    "            \"130-169\" : [],\n",
    "            \"182-247\" : [],\n",
    "            \"260-325\" : [],\n",
    "            \"351-455\" : [],\n",
    "            \"468-611\" : [],\n",
    "            \"624-741\" : [],\n",
    "            \"793-949\" : [],\n",
    "            \"9664-10000\"    : []}"
   ]
  },
  {
   "cell_type": "code",
   "execution_count": 59,
   "metadata": {},
   "outputs": [
    {
     "name": "stdout",
     "output_type": "stream",
     "text": [
      "['1', '2']\n"
     ]
    }
   ],
   "source": [
    "x = \"1-2\"\n",
    "print(x.split(\"-\"))"
   ]
  },
  {
   "cell_type": "code",
   "execution_count": 60,
   "metadata": {},
   "outputs": [],
   "source": [
    "datadir = \"Desktop/KGExtract/train/\"\n",
    "folders = os.listdir(datadir)\n",
    "for folder in folders:\n",
    "    imgs = os.listdir(datadir+folder)\n",
    "    for r, l in dictall.items():\n",
    "        range_array = r.split(\"-\")\n",
    "        length = len(imgs)\n",
    "        if length >= int(range_array[0]) and length <= int(range_array[1]):\n",
    "            l = l.append(folder)"
   ]
  },
  {
   "cell_type": "code",
   "execution_count": 66,
   "metadata": {},
   "outputs": [],
   "source": [
    "for fname, farr in dictall.items():\n",
    "    for fldr in farr:\n",
    "        shutil.move(\"Desktop/NewTrain/train/\"+fldr,\"Desktop/gang/\"+fname)"
   ]
  },
  {
   "cell_type": "code",
   "execution_count": 67,
   "metadata": {},
   "outputs": [
    {
     "data": {
      "text/plain": [
       "'Desktop/t2/66d444e7c.jpg'"
      ]
     },
     "execution_count": 67,
     "metadata": {},
     "output_type": "execute_result"
    }
   ],
   "source": [
    "shutil.copy(\"Desktop/t1/66d444e7c.jpg\", \"Desktop/t2/\")"
   ]
  },
  {
   "cell_type": "code",
   "execution_count": 68,
   "metadata": {},
   "outputs": [],
   "source": [
    "import random"
   ]
  },
  {
   "cell_type": "code",
   "execution_count": 80,
   "metadata": {},
   "outputs": [
    {
     "data": {
      "text/plain": [
       "9"
      ]
     },
     "execution_count": 80,
     "metadata": {},
     "output_type": "execute_result"
    }
   ],
   "source": [
    "random.randint(0,17)"
   ]
  },
  {
   "cell_type": "code",
   "execution_count": 91,
   "metadata": {},
   "outputs": [],
   "source": [
    "for fname,farr in dictall.items():\n",
    "    if fname != \"9664-10000\":\n",
    "        for fldr in farr:\n",
    "            imgs = os.listdir(\"Desktop/gang/\"+fname+\"/\"+fldr)\n",
    "            rn1,rn2 = random.randint(0,12),random.randint(0,12)\n",
    "            shutil.copy(\"Desktop/gang/\"+fname+\"/\"+fldr+\"/\"+imgs[rn1], \"Desktop/gang/9664-10000/other\")\n",
    "            shutil.copy(\"Desktop/gang/\"+fname+\"/\"+fldr+\"/\"+imgs[rn2], \"Desktop/gang/9664-10000/other\")"
   ]
  }
 ],
 "metadata": {
  "kernelspec": {
   "display_name": "Python 3",
   "language": "python",
   "name": "python3"
  },
  "language_info": {
   "codemirror_mode": {
    "name": "ipython",
    "version": 3
   },
   "file_extension": ".py",
   "mimetype": "text/x-python",
   "name": "python",
   "nbconvert_exporter": "python",
   "pygments_lexer": "ipython3",
   "version": "3.7.1"
  }
 },
 "nbformat": 4,
 "nbformat_minor": 2
}
