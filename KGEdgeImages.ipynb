{
 "cells": [
  {
   "cell_type": "code",
   "execution_count": 1,
   "metadata": {},
   "outputs": [],
   "source": [
    "import os\n",
    "import shutil\n",
    "import numpy as np\n",
    "import cv2\n",
    "import threading"
   ]
  },
  {
   "cell_type": "code",
   "execution_count": 2,
   "metadata": {},
   "outputs": [],
   "source": [
    "source = \"Desktop/KGExtractBackup/train\"\n",
    "dest = \"Desktop/TrainFlukes/\"\n",
    "folders = os.listdir(source)"
   ]
  },
  {
   "cell_type": "code",
   "execution_count": 3,
   "metadata": {},
   "outputs": [
    {
     "data": {
      "text/plain": [
       "5005"
      ]
     },
     "execution_count": 3,
     "metadata": {},
     "output_type": "execute_result"
    }
   ],
   "source": [
    "len(folders)"
   ]
  },
  {
   "cell_type": "code",
   "execution_count": 4,
   "metadata": {},
   "outputs": [],
   "source": [
    "##CREATE NEW FOLDERS\n",
    "for folder in folders:\n",
    "    if not os.path.exists(dest+folder):\n",
    "        os.mkdir(dest+folder)"
   ]
  },
  {
   "cell_type": "code",
   "execution_count": 31,
   "metadata": {},
   "outputs": [],
   "source": [
    "def auto_canny(image, sigma=0.33):\n",
    "    # compute the median of the single channel pixel intensities\n",
    "    v = np.median(image)\n",
    "    # apply automatic Canny edge detection using the computed median\n",
    "    lower = int(max(0, (1.0 - sigma) * v))\n",
    "    upper = int(min(255, (1.0 + sigma) * v))\n",
    "    edged = cv2.Canny(image, lower, upper)\n",
    "    # return the edged image\n",
    "    return edged"
   ]
  },
  {
   "cell_type": "code",
   "execution_count": 32,
   "metadata": {},
   "outputs": [],
   "source": [
    "def edge_Move(final_path, path, img_name):\n",
    "    image = cv2.imread(path)\n",
    "    gray = cv2.cvtColor(image, cv2.COLOR_BGR2GRAY)\n",
    "    blurred = cv2.GaussianBlur(gray, (3, 3), 0)\n",
    "    tight = cv2.Canny(blurred, 100, 250)\n",
    "    #new_name = img_name.strip(\".jpg\")+\"EDGED\"+\".jpg\"\n",
    "    cv2.imwrite(final_path+\"/\"+img_name, tight)"
   ]
  },
  {
   "cell_type": "code",
   "execution_count": 7,
   "metadata": {},
   "outputs": [
    {
     "data": {
      "text/plain": [
       "['tt', 'tt2']"
      ]
     },
     "execution_count": 7,
     "metadata": {},
     "output_type": "execute_result"
    }
   ],
   "source": [
    "folders = os.listdir(\"Desktop/imgT/train_old\")"
   ]
  },
  {
   "cell_type": "code",
   "execution_count": 10,
   "metadata": {},
   "outputs": [],
   "source": [
    "files = os.listdir(\"Desktop/KGExtract/train\")\n",
    "img_per_class = []\n",
    "for folder in files:\n",
    "    imgs = os.listdir(\"Desktop/KGExtract/train/\"+folder)\n",
    "    img_per_class.append(folder)\n",
    "q = np.array(img_per_class)\n",
    "q = np.array_split(img_per_class,25)"
   ]
  },
  {
   "cell_type": "code",
   "execution_count": 13,
   "metadata": {},
   "outputs": [],
   "source": [
    "def edgeAug(n):\n",
    "    for fldr_name in q[n]:\n",
    "        imgs = os.listdir(\"Desktop/KGExtract/train/\"+fldr_name)\n",
    "        for img_name in imgs:\n",
    "            final_path = \"Desktop/KGExtract/train_edge/\" + fldr_name\n",
    "            curr_path = \"Desktop/KGExtract/train/\"+fldr_name+\"/\"+img_name\n",
    "            edge_Move(final_path, curr_path, img_name)"
   ]
  },
  {
   "cell_type": "code",
   "execution_count": 14,
   "metadata": {},
   "outputs": [],
   "source": [
    "import time\n",
    "import threading"
   ]
  },
  {
   "cell_type": "code",
   "execution_count": 15,
   "metadata": {},
   "outputs": [
    {
     "name": "stdout",
     "output_type": "stream",
     "text": [
      "total time taken: 581.500429391861\n"
     ]
    }
   ],
   "source": [
    "if __name__ == \"__main__\":\n",
    "    threadsgang=[None]*25\n",
    "    start=time.time()\n",
    "    for i in range(24):\n",
    "        threadsgang[i] = threading.Thread(target=edgeAug,args=[i])\n",
    "        threadsgang[i].start()\n",
    "    for i in range(24):\n",
    "        threadsgang[i].join()\n",
    "    end=time.time()\n",
    "    print(\"total time taken: {}\".format(end-start))"
   ]
  },
  {
   "cell_type": "code",
   "execution_count": 24,
   "metadata": {},
   "outputs": [],
   "source": [
    "different = []\n",
    "diff = []\n",
    "t_folders = os.listdir(\"Desktop/KGExtract/train\")\n",
    "e_folders = os.listdir(\"Desktop/KGExtract/train_edge\")"
   ]
  },
  {
   "cell_type": "code",
   "execution_count": 25,
   "metadata": {},
   "outputs": [],
   "source": [
    "for i in range(len(t_folders)):\n",
    "    t = os.listdir(\"Desktop/KGExtract/train/\"+t_folders[i])\n",
    "    e = os.listdir(\"Desktop/KGExtract/train_edge/\"+e_folders[i])\n",
    "    if (len(e) != len(t)):\n",
    "        different.append(e_folders[i])"
   ]
  },
  {
   "cell_type": "code",
   "execution_count": 26,
   "metadata": {},
   "outputs": [
    {
     "data": {
      "text/plain": [
       "0"
      ]
     },
     "execution_count": 26,
     "metadata": {},
     "output_type": "execute_result"
    }
   ],
   "source": [
    "len(different)"
   ]
  },
  {
   "cell_type": "code",
   "execution_count": 33,
   "metadata": {},
   "outputs": [],
   "source": [
    "files = os.listdir(\"Desktop/KGExtract/test\")"
   ]
  },
  {
   "cell_type": "code",
   "execution_count": 34,
   "metadata": {},
   "outputs": [
    {
     "data": {
      "text/plain": [
       "7960"
      ]
     },
     "execution_count": 34,
     "metadata": {},
     "output_type": "execute_result"
    }
   ],
   "source": [
    "len(files)"
   ]
  },
  {
   "cell_type": "code",
   "execution_count": 35,
   "metadata": {},
   "outputs": [],
   "source": [
    "for img_name in files:\n",
    "    final_path = \"Desktop/KGExtract/test_edge/\"\n",
    "    curr_path = \"Desktop/KGExtract/test/\"+img_name\n",
    "    edge_Move(final_path, curr_path, img_name)"
   ]
  },
  {
   "cell_type": "code",
   "execution_count": 20,
   "metadata": {},
   "outputs": [],
   "source": [
    "for fldr_name in different:\n",
    "    imgs = os.listdir(\"Desktop/KGExtract/train/\"+fldr_name)\n",
    "    for img_name in imgs:\n",
    "        final_path = \"Desktop/KGExtract/train_edge/\" + fldr_name\n",
    "        curr_path = \"Desktop/KGExtract/train/\"+fldr_name+\"/\"+img_name\n",
    "        edge_Move(final_path, curr_path, img_name)"
   ]
  }
 ],
 "metadata": {
  "kernelspec": {
   "display_name": "Python 3",
   "language": "python",
   "name": "python3"
  },
  "language_info": {
   "codemirror_mode": {
    "name": "ipython",
    "version": 3
   },
   "file_extension": ".py",
   "mimetype": "text/x-python",
   "name": "python",
   "nbconvert_exporter": "python",
   "pygments_lexer": "ipython3",
   "version": "3.7.1"
  }
 },
 "nbformat": 4,
 "nbformat_minor": 2
}
