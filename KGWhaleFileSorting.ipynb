{
 "cells": [
  {
   "cell_type": "code",
   "execution_count": 1,
   "metadata": {},
   "outputs": [],
   "source": [
    "import pandas as pd\n",
    "import os\n",
    "import shutil\n",
    "import threading\n",
    "import time"
   ]
  },
  {
   "cell_type": "code",
   "execution_count": 2,
   "metadata": {},
   "outputs": [],
   "source": [
    "def movefile(img_name,fldr_name):\n",
    "    if not os.path.exists(\"Desktop/KGExtract/train/\"+fldr_name):\n",
    "        os.mkdir(\"Desktop/KGExtract/train/\"+fldr_name)\n",
    "    shutil.move(\"Desktop/KGExtract/train/\"+img_name, \"Desktop/KGExtract/train/\"+fldr_name)\n",
    "        "
   ]
  },
  {
   "cell_type": "code",
   "execution_count": 3,
   "metadata": {},
   "outputs": [],
   "source": [
    "file_info = pd.read_csv(\"Desktop/KGExtract/train.csv\")"
   ]
  },
  {
   "cell_type": "code",
   "execution_count": 4,
   "metadata": {},
   "outputs": [],
   "source": [
    "for _, imid in file_info.iterrows():\n",
    "    img_name = imid[0]\n",
    "    img_clss = imid[1]\n",
    "    movefile(img_name, img_clss)\n",
    "    "
   ]
  }
 ],
 "metadata": {
  "kernelspec": {
   "display_name": "Python 3",
   "language": "python",
   "name": "python3"
  },
  "language_info": {
   "codemirror_mode": {
    "name": "ipython",
    "version": 3
   },
   "file_extension": ".py",
   "mimetype": "text/x-python",
   "name": "python",
   "nbconvert_exporter": "python",
   "pygments_lexer": "ipython3",
   "version": "3.7.1"
  }
 },
 "nbformat": 4,
 "nbformat_minor": 2
}
