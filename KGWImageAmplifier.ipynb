{
 "cells": [
  {
   "cell_type": "code",
   "execution_count": 1,
   "metadata": {},
   "outputs": [],
   "source": [
    "import os\n",
    "from PIL import Image\n",
    "from PIL import ImageFilter\n",
    "from PIL import ImageOps"
   ]
  },
  {
   "cell_type": "code",
   "execution_count": 2,
   "metadata": {},
   "outputs": [],
   "source": [
    "OGDIR=os.getcwd()"
   ]
  },
  {
   "cell_type": "code",
   "execution_count": 7,
   "metadata": {},
   "outputs": [],
   "source": [
    "def applyAugs(image):\n",
    "    a = image.filter(ImageFilter.UnsharpMask)\n",
    "    b = image.filter(ImageFilter.SHARPEN)\n",
    "    c = image.filter(ImageFilter.BLUR)\n",
    "    d = image.filter(ImageFilter.DETAIL)\n",
    "    e = image.filter(ImageFilter.EDGE_ENHANCE_MORE)\n",
    "    f = image.filter(ImageFilter.SHARPEN)\n",
    "    g = image.filter(ImageFilter.SMOOTH_MORE)\n",
    "    h = image.filter(ImageFilter.GaussianBlur)\n",
    "    i = ImageOps.autocontrast(image)\n",
    "    j = ImageOps.equalize(image)\n",
    "    k = ImageOps.grayscale(image)\n",
    "    l = ImageOps.mirror(image)\n",
    "    m = ImageOps.posterize(image,3)\n",
    "    return [a,b,c,d,e,f,g,h,i,j,k,l,m]"
   ]
  },
  {
   "cell_type": "code",
   "execution_count": 9,
   "metadata": {},
   "outputs": [],
   "source": [
    "d = {0:\"A_\", 1:\"B_\", 2:\"C_\", 3:\"D_\", 4:\"E_\", 5:\"F_\", 6:\"G_\", 7:\"H_\", 8:\"I_\",\n",
    "    9:\"J_\", 10:\"K_\", 11:\"L_\", 12: \"M_\"}"
   ]
  },
  {
   "cell_type": "code",
   "execution_count": 11,
   "metadata": {},
   "outputs": [],
   "source": [
    "data_dir = \"Desktop/KGWData\"\n",
    "folders = os.listdir(data_dir)"
   ]
  },
  {
   "cell_type": "code",
   "execution_count": 12,
   "metadata": {},
   "outputs": [],
   "source": [
    "for subfolder in folders:\n",
    "    files = os.listdir(data_dir+\"/\"+subfolder)\n",
    "    if (len(files) <= 20):\n",
    "        for file in files:\n",
    "            image = Image.open(data_dir+\"/\"+subfolder+\"/\"+file)\n",
    "            l = applyAugs(image)\n",
    "            os.chdir(data_dir+\"/\"+subfolder+\"/\")\n",
    "            for i in range(len(l)):\n",
    "                l[i].save(fp = subfolder+d[i]+\"EDITED.jpg\")\n",
    "            os.chdir(OGDIR)\n",
    "        os.chdir(OGDIR)"
   ]
  }
 ],
 "metadata": {
  "kernelspec": {
   "display_name": "Python 3",
   "language": "python",
   "name": "python3"
  },
  "language_info": {
   "codemirror_mode": {
    "name": "ipython",
    "version": 3
   },
   "file_extension": ".py",
   "mimetype": "text/x-python",
   "name": "python",
   "nbconvert_exporter": "python",
   "pygments_lexer": "ipython3",
   "version": "3.7.1"
  }
 },
 "nbformat": 4,
 "nbformat_minor": 2
}
