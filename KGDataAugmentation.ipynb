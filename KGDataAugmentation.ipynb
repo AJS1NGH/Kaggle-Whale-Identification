{
 "cells": [
  {
   "cell_type": "code",
   "execution_count": 174,
   "metadata": {},
   "outputs": [],
   "source": [
    "import os\n",
    "import numpy as np\n",
    "import cv2\n",
    "from matplotlib import pyplot as plt\n",
    "from skimage.color import label2rgb\n",
    "import albumentations as A\n",
    "import random\n",
    "from PIL import Image\n",
    "import time\n",
    "import threading"
   ]
  },
  {
   "cell_type": "code",
   "execution_count": 175,
   "metadata": {},
   "outputs": [],
   "source": [
    "augs = [A.HorizontalFlip(p=1),A.Blur(p=1),A.Transpose(p=1),A.Rotate(limit=((-10,10)),p=1,border_mode=0),A.GridDistortion(p=1),A.RGBShift(p=1),A.RandomBrightness(p=1),\n",
    "        A.MedianBlur(p=1),A.GaussNoise(p=1),A.CLAHE(p=1),A.ToGray(p=1),A.imgaug.transforms.IAAPerspective(p=1,scale=(0.05,0.08))]"
   ]
  },
  {
   "cell_type": "code",
   "execution_count": 177,
   "metadata": {},
   "outputs": [],
   "source": [
    "files = os.listdir(\"Desktop/KGExtract/train\")\n",
    "files = np.array(files)\n",
    "files = np.array_split(files,25)"
   ]
  },
  {
   "cell_type": "code",
   "execution_count": 179,
   "metadata": {},
   "outputs": [],
   "source": [
    "# files = os.listdir(\"Desktop/TrainFlukes/\")\n",
    "# img_per_class = []\n",
    "# for folder in files:\n",
    "#     imgs = os.listdir(\"Desktop/TrainFlukes/\"+folder)\n",
    "#     if (len(imgs)) < 13:\n",
    "#         img_per_class.append(folder)\n",
    "# q = np.array(img_per_class)\n",
    "# q = np.array_split(img_per_class,25)"
   ]
  },
  {
   "cell_type": "code",
   "execution_count": 183,
   "metadata": {},
   "outputs": [],
   "source": [
    "files = os.listdir(\"Desktop/TrainFlukes/\")\n",
    "img_per_class = []\n",
    "for folder in files:\n",
    "    imgs = os.listdir(\"Desktop/TrainFlukes/\"+folder)\n",
    "    img_per_class.append(len(imgs))\n",
    "q = np.array(img_per_class)\n",
    "q = np.array_split(img_per_class,25)"
   ]
  },
  {
   "cell_type": "code",
   "execution_count": 187,
   "metadata": {},
   "outputs": [
    {
     "data": {
      "text/plain": [
       "array([  1.        ,   1.07692308,   1.23076923,   1.30769231,\n",
       "         1.69230769,   2.        ,   2.30769231,   2.61538462,\n",
       "         3.        ,   3.84615385,   4.        ,   5.        ,\n",
       "         6.        ,   7.        ,   8.        ,   9.        ,\n",
       "        10.        ,  11.        ,  12.        ,  13.        ,\n",
       "        14.        ,  15.        ,  16.        ,  17.        ,\n",
       "        18.        ,  19.        ,  20.        ,  21.        ,\n",
       "        22.        ,  23.        ,  24.        ,  25.        ,\n",
       "        27.        ,  29.        ,  30.        ,  31.        ,\n",
       "        32.        ,  33.        ,  34.        ,  35.        ,\n",
       "        36.        ,  37.        ,  40.        ,  45.        ,\n",
       "        47.        ,  48.        ,  49.        ,  51.        ,\n",
       "        54.        ,  57.        ,  61.        ,  62.        ,\n",
       "        65.        ,  73.        , 743.38461538])"
      ]
     },
     "execution_count": 187,
     "metadata": {},
     "output_type": "execute_result"
    }
   ],
   "source": [
    "y = np.array(img_per_class)\n",
    "y = np.unique(y)\n",
    "y/13"
   ]
  },
  {
   "cell_type": "code",
   "execution_count": 172,
   "metadata": {},
   "outputs": [],
   "source": [
    "def AugImages(n):\n",
    "    for fldr in q[n]:\n",
    "        print(fldr)\n",
    "        x = os.listdir(\"Desktop/TrainFlukes/\"+fldr)\n",
    "        for img in x:\n",
    "            imageOG = cv2.imread('Desktop/TrainFlukes/'+fldr+\"/\"+img)\n",
    "            for i in range(len(augs)):\n",
    "                image = imageOG\n",
    "                aug = A.Compose([augs[i]])\n",
    "                augmented = aug(image=image)\n",
    "                image = cv2.cvtColor(image, cv2.COLOR_BGR2RGB)\n",
    "                img_aug = cv2.cvtColor(augmented['image'], cv2.COLOR_BGR2RGB)\n",
    "                im_pil = (Image.fromarray(img_aug)).convert(\"RGB\")\n",
    "                new_name = (img.strip(\".jpg\"))+\"EDITED\"\n",
    "                im_pil.save(fp = \"Desktop/TrainFlukes/\"+fldr+\"/\"+new_name+str(i)+\".jpg\")"
   ]
  },
  {
   "cell_type": "code",
   "execution_count": 173,
   "metadata": {
    "scrolled": true
   },
   "outputs": [
    {
     "name": "stdout",
     "output_type": "stream",
     "text": [
      "w_ff65f67\n",
      "w_ff7a4aew_ff94900\n",
      "\n",
      "w_ffa542b\n",
      "w_ffa6d42\n",
      "w_ffcf5fe\n",
      "w_ffe8693\n",
      "total time taken: 1.64292311668396\n"
     ]
    }
   ],
   "source": [
    "if __name__ == \"__main__\":\n",
    "    threadsgang=[None]*25\n",
    "    for i in range(24):\n",
    "        threadsgang[i] = threading.Thread(target=AugImages,args=[i])\n",
    "        threadsgang[i].start()\n",
    "    start=time.time()\n",
    "    for i in range(24):\n",
    "        threadsgang[i].join()\n",
    "    end=time.time()\n",
    "    print(\"total time taken: {}\".format(end-start))\n",
    "#TIME TAKEN = 1240 SECONDS.....137 FILES GENERATED PER SECOND"
   ]
  }
 ],
 "metadata": {
  "kernelspec": {
   "display_name": "Python 3",
   "language": "python",
   "name": "python3"
  },
  "language_info": {
   "codemirror_mode": {
    "name": "ipython",
    "version": 3
   },
   "file_extension": ".py",
   "mimetype": "text/x-python",
   "name": "python",
   "nbconvert_exporter": "python",
   "pygments_lexer": "ipython3",
   "version": "3.7.1"
  }
 },
 "nbformat": 4,
 "nbformat_minor": 2
}
